{
 "cells": [
  {
   "cell_type": "code",
   "execution_count": null,
   "id": "24ece092",
   "metadata": {},
   "outputs": [],
   "source": [
    "from pyspark.sql import SparkSession\n",
    "from pyspark.sql import Row\n",
    "from pyspark.sql.types import LongType,DateType,StringType\n",
    "from pyspark.sql.types import StructField, StructType, BooleanType, ArrayType, IntegerType, DoubleType, FloatType\n",
    "from delta import *\n",
    "from delta.tables import *\n",
    "from hdfs import InsecureClient\n",
    "from os import PathLike\n",
    "import pandas as teste\n",
    "from pyspark.sql.functions import *\n",
    "from pyspark.sql.functions import max as sparkMax\n",
    "# warehouse_location points to the default location for managed databases and tables\n",
    "warehouse_location = 'hdfs://hdfs-nn:9000/project/uc3/silver/warehouse'\n",
    "\n",
    "builder = SparkSession \\\n",
    "    .builder \\\n",
    "    .appName(\"Python Spark SQL Hive integration Porject\") \\\n",
    "    .config(\"spark.sql.warehouse.dir\", warehouse_location) \\\n",
    "    .config(\"hive.metastore.uris\", \"thrift://hive-metastore:9083\") \\\n",
    "    .config(\"spark.sql.extensions\", \"io.delta.sql.DeltaSparkSessionExtension\") \\\n",
    "    .config(\"spark.sql.catalog.spark_catalog\", \"org.apache.spark.sql.delta.catalog.DeltaCatalog\") \\\n",
    "    .config(\"spark.jars.packages\", \"io.delta:delta-core_2.12:1.0.0\") \\\n",
    "    .enableHiveSupport() \\\n",
    "\n",
    "spark = spark = configure_spark_with_delta_pip(builder).getOrCreate()"
   ]
  },
  {
   "cell_type": "code",
   "execution_count": null,
   "id": "86132f55",
   "metadata": {},
   "outputs": [],
   "source": [
    "pip install delta-spark==1.0.0"
   ]
  },
  {
   "cell_type": "code",
   "execution_count": null,
   "id": "a00bbc80",
   "metadata": {},
   "outputs": [],
   "source": [
    "#EXEMPLO PARA FAZER UPLOAD DOS DATASETS\n",
    "\n",
    "client = InsecureClient(\"http://hdfs-nn:9870\", user=\"anonymous\")\n",
    "\n",
    "from_path = \"./uc3/2009.csv\"\n",
    "to_path = \"/project/uc3/bronze/datasets/2009.csv\"\n",
    "\n",
    "\n",
    "client.delete(to_path)\n",
    "\n",
    "client.upload(to_path, from_path)"
   ]
  },
  {
   "cell_type": "code",
   "execution_count": null,
   "id": "2c1ca2d4",
   "metadata": {},
   "outputs": [],
   "source": [
    "#EXEMPLO PARA FAZER UPLOAD DOS DATASETS\n",
    "\n",
    "client = InsecureClient(\"http://hdfs-nn:9870\", user=\"anonymous\")\n",
    "\n",
    "from_path = \"./uc3/2010.csv\"\n",
    "to_path = \"/project/uc3/bronze/datasets/2010.csv\"\n",
    "\n",
    "\n",
    "client.delete(to_path)\n",
    "\n",
    "client.upload(to_path, from_path)"
   ]
  },
  {
   "cell_type": "code",
   "execution_count": null,
   "id": "ad9d81e6",
   "metadata": {},
   "outputs": [],
   "source": [
    "#EXEMPLO PARA FAZER UPLOAD DOS DATASETS\n",
    "\n",
    "#client = InsecureClient(\"http://hdfs-nn:9870\", user=\"anonymous\")\n",
    "\n",
    "from_path = \"./uc3/2011.csv\"\n",
    "to_path = \"/project/uc3/bronze/datasets/2011.csv\"\n",
    "\n",
    "\n",
    "client.delete(to_path)\n",
    "\n",
    "client.upload(to_path, from_path)"
   ]
  },
  {
   "cell_type": "code",
   "execution_count": null,
   "id": "36e02ff3",
   "metadata": {},
   "outputs": [],
   "source": [
    "#EXEMPLO PARA FAZER UPLOAD DOS DATASETS\n",
    "\n",
    "client = InsecureClient(\"http://hdfs-nn:9870\", user=\"anonymous\")\n",
    "\n",
    "from_path = \"./uc3/2012.csv\"\n",
    "to_path = \"/project/uc3/bronze/datasets/2012.csv\"\n",
    "\n",
    "\n",
    "client.delete(to_path)\n",
    "\n",
    "client.upload(to_path, from_path)"
   ]
  },
  {
   "cell_type": "code",
   "execution_count": null,
   "id": "4c87ba54",
   "metadata": {},
   "outputs": [],
   "source": [
    "#EXEMPLO PARA FAZER UPLOAD DOS DATASETS\n",
    "\n",
    "client = InsecureClient(\"http://hdfs-nn:9870\", user=\"anonymous\")\n",
    "\n",
    "from_path = \"./uc3/2013.csv\"\n",
    "to_path = \"/project/uc3/bronze/datasets/2013.csv\"\n",
    "\n",
    "\n",
    "client.delete(to_path)\n",
    "\n",
    "client.upload(to_path, from_path)"
   ]
  },
  {
   "cell_type": "code",
   "execution_count": null,
   "id": "95f60243",
   "metadata": {},
   "outputs": [],
   "source": [
    "#EXEMPLO PARA FAZER UPLOAD DOS DATASETS\n",
    "\n",
    "client = InsecureClient(\"http://hdfs-nn:9870\", user=\"anonymous\")\n",
    "\n",
    "from_path = \"./uc3/2014.csv\"\n",
    "to_path = \"/project/uc3/bronze/datasets/2014.csv\"\n",
    "\n",
    "\n",
    "client.delete(to_path)\n",
    "\n",
    "client.upload(to_path, from_path)"
   ]
  },
  {
   "cell_type": "code",
   "execution_count": null,
   "id": "acf9f8fe",
   "metadata": {},
   "outputs": [],
   "source": [
    "#EXEMPLO PARA FAZER UPLOAD DOS DATASETS\n",
    "\n",
    "client = InsecureClient(\"http://hdfs-nn:9870\", user=\"anonymous\")\n",
    "\n",
    "from_path = \"./uc3/2015.csv\"\n",
    "to_path = \"/project/uc3/bronze/datasets/2015.csv\"\n",
    "\n",
    "\n",
    "client.delete(to_path)\n",
    "\n",
    "client.upload(to_path, from_path)"
   ]
  },
  {
   "cell_type": "code",
   "execution_count": null,
   "id": "7a77f6f8",
   "metadata": {},
   "outputs": [],
   "source": [
    "#EXEMPLO PARA FAZER UPLOAD DOS DATASETS\n",
    "\n",
    "client = InsecureClient(\"http://hdfs-nn:9870\", user=\"anonymous\")\n",
    "\n",
    "from_path = \"./uc3/2016.csv\"\n",
    "to_path = \"/project/uc3/bronze/datasets/2016.csv\"\n",
    "\n",
    "\n",
    "client.delete(to_path)\n",
    "\n",
    "client.upload(to_path, from_path)"
   ]
  },
  {
   "cell_type": "code",
   "execution_count": null,
   "id": "5fdb13e5",
   "metadata": {},
   "outputs": [],
   "source": [
    "#EXEMPLO PARA FAZER UPLOAD DOS DATASETS\n",
    "\n",
    "client = InsecureClient(\"http://hdfs-nn:9870\", user=\"anonymous\")\n",
    "\n",
    "from_path = \"./uc3/2017.csv\"\n",
    "to_path = \"/project/uc3/bronze/datasets/2017.csv\"\n",
    "\n",
    "\n",
    "client.delete(to_path)\n",
    "\n",
    "client.upload(to_path, from_path)"
   ]
  },
  {
   "cell_type": "code",
   "execution_count": null,
   "id": "b53ee4ad",
   "metadata": {},
   "outputs": [],
   "source": [
    "#EXEMPLO PARA FAZER UPLOAD DOS DATASETS\n",
    "\n",
    "client = InsecureClient(\"http://hdfs-nn:9870\", user=\"anonymous\")\n",
    "\n",
    "from_path = \"./uc3/2018.csv\"\n",
    "to_path = \"/project/uc3/bronze/datasets/2018.csv\"\n",
    "\n",
    "\n",
    "client.delete(to_path)\n",
    "\n",
    "client.upload(to_path, from_path)"
   ]
  },
  {
   "cell_type": "code",
   "execution_count": null,
   "id": "0da3aa96",
   "metadata": {},
   "outputs": [],
   "source": [
    "#EXEMPLO PARA FAZER UPLOAD DOS DATASETS\n",
    "\n",
    "client = InsecureClient(\"http://hdfs-nn:9870\", user=\"anonymous\")\n",
    "\n",
    "from_path = \"./Accidents.csv\"\n",
    "to_path = \"/project/uc3/bronze/datasetsDiogo/Accidents.csv\"\n",
    "\n",
    "\n",
    "client.delete(to_path)\n",
    "\n",
    "client.upload(to_path, from_path)"
   ]
  },
  {
   "cell_type": "code",
   "execution_count": null,
   "id": "f8ffe0ff",
   "metadata": {},
   "outputs": [],
   "source": [
    "#EXEMPLO PARA FAZER UPLOAD DOS DATASETS\n",
    "\n",
    "client = InsecureClient(\"http://hdfs-nn:9870\", user=\"anonymous\")\n",
    "\n",
    "from_path = \"./Casualties.csv\"\n",
    "to_path = \"/project/uc3/bronze/datasetsMaria/Casualties.csv\"\n",
    "\n",
    "\n",
    "client.delete(to_path)\n",
    "\n",
    "client.upload(to_path, from_path)"
   ]
  },
  {
   "cell_type": "code",
   "execution_count": null,
   "id": "e62a1e08",
   "metadata": {},
   "outputs": [],
   "source": [
    "spark.sql(\n",
    "\"\"\"\n",
    "SHOW DATABASES\n",
    "\"\"\"\n",
    ").show()"
   ]
  },
  {
   "cell_type": "code",
   "execution_count": null,
   "id": "98045b52",
   "metadata": {},
   "outputs": [],
   "source": [
    "#drop table \n",
    "spark.sql(\n",
    "    \"\"\"\n",
    "    DROP TABLE IF EXISTS bronze.severity_deltalake\n",
    "    \n",
    "    \"\"\"\n",
    ")"
   ]
  },
  {
   "cell_type": "code",
   "execution_count": null,
   "id": "7a0890e0",
   "metadata": {},
   "outputs": [],
   "source": [
    "#drop table \n",
    "spark.sql(\n",
    "    \"\"\"\n",
    "    DROP DATABASE IF EXISTS bronze CASCADE\n",
    "    \n",
    "    \"\"\"\n",
    ")"
   ]
  },
  {
   "cell_type": "code",
   "execution_count": null,
   "id": "9a02366b",
   "metadata": {},
   "outputs": [],
   "source": [
    "spark.sql(\"\"\"CREATE DATABASE bronze LOCATION 'hdfs://hdfs-nn:9000/project/uc3/bronze/warehouse/bronze.db' \"\"\")"
   ]
  },
  {
   "cell_type": "code",
   "execution_count": null,
   "id": "1d6b24fb",
   "metadata": {},
   "outputs": [],
   "source": [
    "#creation of table (all datasets )\n",
    "spark.sql(\n",
    "    \"\"\"\n",
    "    CREATE EXTERNAL TABLE bronze.severity_deltalake (\n",
    "        \n",
    "    Reference_Number STRING,\n",
    "    Easting STRING,\n",
    "    Northing STRING,\n",
    "    Number_of_Vehicles STRING,\n",
    "    Accident_Date STRING,\n",
    "    Time_24hr STRING,\n",
    "    1st_Road_Class STRING,\n",
    "    Road_Surface STRING,\n",
    "    Lighting_Conditions STRING,\n",
    "    Weather_Conditions STRING,\n",
    "    Casualty_Class STRING,\n",
    "    Casualty_Severity STRING,\n",
    "    Sex_of_Casualty STRING ,\n",
    "    Age_of_Casualty STRING ,\n",
    "    Type_of_Vehicle STRING\n",
    "    \n",
    "    )\n",
    "    \n",
    "    USING DELTA\n",
    "    LOCATION 'hdfs://hdfs-nn:9000/project/uc3/bronze/warehouse/bronze.db/severity_deltalake/'\n",
    "    \"\"\"\n",
    ")"
   ]
  },
  {
   "cell_type": "code",
   "execution_count": null,
   "id": "eae42a75",
   "metadata": {},
   "outputs": [],
   "source": [
    "#show tables from severity database\n",
    "spark.sql(\n",
    "    \"\"\"\n",
    "    SHOW TABLES FROM bronze\n",
    "    \"\"\"\n",
    ").show()"
   ]
  },
  {
   "cell_type": "code",
   "execution_count": null,
   "id": "bc10c641",
   "metadata": {},
   "outputs": [],
   "source": [
    "#check data from table (check 1)\n",
    "spark.sql(\n",
    "    \"\"\"\n",
    "    SELECT *\n",
    "    FROM bronze.severity_deltalake\n",
    "    \"\"\"\n",
    ").show()"
   ]
  },
  {
   "cell_type": "code",
   "execution_count": null,
   "id": "2b2eacbd",
   "metadata": {},
   "outputs": [],
   "source": [
    "#check data from table (check 2)\n",
    "spark.sql(\n",
    "    \"\"\"\n",
    "    SELECT *\n",
    "    FROM bronze.severity_deltalake\n",
    "    \"\"\"\n",
    ").toPandas()"
   ]
  },
  {
   "cell_type": "code",
   "execution_count": null,
   "id": "9d598a83",
   "metadata": {},
   "outputs": [],
   "source": [
    "#now lets extract and transform data"
   ]
  },
  {
   "cell_type": "code",
   "execution_count": null,
   "id": "c850dbfc",
   "metadata": {},
   "outputs": [],
   "source": [
    "#save data from all datasets into severity_df\n",
    "severity_df = (spark.read.format('csv')\n",
    "           .option('header', 'True')\n",
    "           .option('delimiter', \";\")\n",
    "           .option(\"inferSchema\", \"true\")\n",
    "           .load('hdfs://hdfs-nn:9000/project/uc3/bronze/datasets/'))"
   ]
  },
  {
   "cell_type": "code",
   "execution_count": null,
   "id": "5c08b9cb",
   "metadata": {},
   "outputs": [],
   "source": [
    "#check data\n",
    "severity_df.printSchema()\n",
    "severity_df.show()"
   ]
  },
  {
   "cell_type": "code",
   "execution_count": null,
   "id": "b17feb5c",
   "metadata": {},
   "outputs": [],
   "source": [
    "#transform n1\n",
    "severity_final = (severity_df\n",
    "                .distinct()\n",
    "                .withColumn('Number_of_Vehicles', severity_df['Number_of_Vehicles'].cast('int'))\n",
    "                .withColumn('Age_of_Casualty', severity_df['Age_of_Casualty'].cast('int'))\n",
    "                .withColumnRenamed('Casualty_Class', 'Victim_class')\n",
    "                .withColumnRenamed('Casualty_Severity','Victim_severity')\n",
    "                .withColumnRenamed('Sex_of_Casualty','Sex_of_victim')\n",
    "                .withColumnRenamed('Age_of_Casualty','Age_of_victim')\n",
    "                .withColumnRenamed('Reference_Number','Id')\n",
    "                .withColumnRenamed('Time_24hr','Time')\n",
    "                .drop('Easting','Northing','1st_Road_Class','Number_of-Vehicles')\n",
    "           )\n",
    "#severity_final.show()\n",
    "severity_final.printSchema()\n",
    "severity_final.toPandas()"
   ]
  },
  {
   "cell_type": "code",
   "execution_count": null,
   "id": "9c6a4439",
   "metadata": {},
   "outputs": [],
   "source": [
    "#save to ease the process\n",
    "severity_final\\\n",
    "    .write\\\n",
    "    .mode(\"overwrite\")\\\n",
    "    .format(\"delta\")\\\n",
    "    .option (\"overwriteSchema\", \"true\")\\\n",
    "    .save(\"hdfs://hdfs-nn:9000/project/uc3/bronze/warehouse/bronze.db/severity_deltalake/\")"
   ]
  },
  {
   "cell_type": "code",
   "execution_count": null,
   "id": "9703b47e",
   "metadata": {},
   "outputs": [],
   "source": [
    "#transform n2\n",
    "severity_final = (severity_final\n",
    "                .replace('2', 'Female', 'Sex_of_Victim')\n",
    "                .replace('1', 'Male', 'Sex_of_Victim')\n",
    "                    \n",
    "                .replace('1', 'Fatal', 'Victim_severity')\n",
    "                .replace('2', 'Serious', 'Victim_severity')\n",
    "                .replace('3', 'Slight', 'Victim_severity')\n",
    "                    \n",
    "                .replace('1', 'Driver/Rider', 'Victim_class')\n",
    "                .replace('2', 'Vehicle/Pillion Passenger', 'Victim_class')\n",
    "                .replace('3', 'Passenger', 'Victim_class')\n",
    "                   )\n",
    "\n",
    "severity_final.toPandas()"
   ]
  },
  {
   "cell_type": "code",
   "execution_count": null,
   "id": "e3452ce6",
   "metadata": {},
   "outputs": [],
   "source": [
    "#transform n2\n",
    "severity_final = (severity_final\n",
    "                .replace('1', 'Daylight: street lights present', 'Lighting_Conditions')\n",
    "                .replace('2', 'Daylight: no street lighting', 'Lighting_Conditions')\n",
    "                .replace('3', 'Daylight: street lighting unknown', 'Lighting_Conditions')\n",
    "                .replace('4', 'Darkness: street lights present and lit', 'Lighting_Conditions')\n",
    "                .replace('5', 'Darkness: street lights present but unlit', 'Lighting_Conditions')      \n",
    "                .replace('6', 'Darkness: no street lighting', 'Lighting_Conditions')\n",
    "                .replace('7', 'Darkness: street lighting unknow', 'Lighting_Conditions')\n",
    "                .replace('-1', 'Data missing or out of range', 'Lighting_Conditions') \n",
    "                \n",
    "                .replace('1', 'Dry', 'Road_Surface')\n",
    "                .replace('2', 'Wet / Damp', 'Road_Surface')\n",
    "                .replace('3', 'Snow', 'Road_Surface')\n",
    "                .replace('4', 'Frost / Ice', 'Road_Surface')\n",
    "                .replace('5', 'Flood (surface water over 3cm deep)', 'Road_Surface')      \n",
    "        \n",
    "                   )\n",
    "\n",
    "severity_final.toPandas()"
   ]
  },
  {
   "cell_type": "code",
   "execution_count": null,
   "id": "1f3ba366",
   "metadata": {},
   "outputs": [],
   "source": [
    "#save to ease the process\n",
    "severity_final\\\n",
    "    .write\\\n",
    "    .mode(\"overwrite\")\\\n",
    "    .format(\"delta\")\\\n",
    "    .option (\"overwriteSchema\", \"true\")\\\n",
    "    .save(\"hdfs://hdfs-nn:9000/project/uc3/bronze/warehouse/bronze.db/severity_deltalake/\")"
   ]
  },
  {
   "cell_type": "code",
   "execution_count": null,
   "id": "6dd4c994",
   "metadata": {},
   "outputs": [],
   "source": [
    "severity_final_1 = spark.read.format(\"delta\").load(\"hdfs://hdfs-nn:9000/project/uc3/bronze/warehouse/bronze.db/severity_deltalake/\")\n",
    "severity_final_1.toPandas()"
   ]
  },
  {
   "cell_type": "code",
   "execution_count": null,
   "id": "974e4525",
   "metadata": {},
   "outputs": [],
   "source": [
    "#transform n3\n",
    "severity_final_1 = (severity_final_1                  \n",
    "                .replace('1', 'Fine without high winds', 'Weather_Conditions')\n",
    "                .replace('2', 'Raining without high winds', 'Weather_Conditions')\n",
    "                .replace('3', 'Snowing without high winds', 'Weather_Conditions')\n",
    "                .replace('4', 'Fine with high winds', 'Weather_Conditions')\n",
    "                .replace('5', 'Raining with high winds', 'Weather_Conditions')      \n",
    "                .replace('6', 'Snowing with high winds', 'Weather_Conditions')\n",
    "                .replace('7', 'Fog or mist', 'Weather_Conditions')\n",
    "                .replace('8', 'Other', 'Weather_Conditions')\n",
    "                .replace('9', 'Unknown', 'Weather_Conditions')\n",
    "                .replace('-1', 'Data missing or out of range', 'Weather_Conditions')\n",
    "                   )\n",
    "severity_final_1.toPandas()"
   ]
  },
  {
   "cell_type": "code",
   "execution_count": null,
   "id": "a76bbafa",
   "metadata": {},
   "outputs": [],
   "source": [
    "#transform n4\n",
    "severity_final_1 = (severity_final_1                    \n",
    "                .replace('1', 'Pedal Cycle', 'Type_of_Vehicle')\n",
    "                .replace('2', 'M/cycle 50cc and under', 'Type_of_Vehicle')\n",
    "                .replace('3', 'Motorcycle over 50cc and up to 125cc', 'Type_of_Vehicle')\n",
    "                .replace('4', 'Motorcycle over 125cc and up to 500cc', 'Type_of_Vehicle')\n",
    "                .replace('5', 'Motorcycle over 500cc', 'Type_of_Vehicle')      \n",
    "                .replace('6', '[Not used]', 'Type_of_Vehicle')\n",
    "                .replace('7', '[Not used]', 'Type_of_Vehicle')\n",
    "                .replace('8', 'Taxi/Private hire car',  'Type_of_Vehicle')\n",
    "                .replace('9', 'Car', 'Type_of_Vehicle')\n",
    "                .replace('10', 'Minibus (8 – 16 passenger seats)', 'Type_of_Vehicle')\n",
    "                .replace('11', 'Bus or coach (17 or more passenger seats)', 'Type_of_Vehicle')\n",
    "                   )\n",
    "severity_final_1.toPandas()"
   ]
  },
  {
   "cell_type": "code",
   "execution_count": null,
   "id": "f3b5a727",
   "metadata": {},
   "outputs": [],
   "source": [
    "#save to ease the process\n",
    "severity_final_1\\\n",
    "    .write\\\n",
    "    .mode(\"overwrite\")\\\n",
    "    .format(\"delta\")\\\n",
    "    .option (\"overwriteSchema\", \"true\")\\\n",
    "    .save(\"hdfs://hdfs-nn:9000/project/uc3/bronze/warehouse/bronze.db/severity_deltalake/\")"
   ]
  },
  {
   "cell_type": "code",
   "execution_count": null,
   "id": "f17886a8",
   "metadata": {},
   "outputs": [],
   "source": [
    "severity_final_1_1 = spark.read.format(\"delta\").load(\"hdfs://hdfs-nn:9000/project/uc3/bronze/warehouse/bronze.db/severity_deltalake/\")\n",
    "severity_final_1_1.toPandas()"
   ]
  },
  {
   "cell_type": "code",
   "execution_count": null,
   "id": "9b2e4bfb",
   "metadata": {},
   "outputs": [],
   "source": [
    "#transform n5\n",
    "severity_final_1_1 = (severity_final_1_1                    \n",
    "                .replace('12', '[Not used]', 'Type_of_Vehicle')\n",
    "                .replace('13', '[Not used]', 'Type_of_Vehicle')\n",
    "                .replace('14', 'Other motor vehicle', 'Type_of_Vehicle')      \n",
    "                .replace('15', 'Other non-motor vehicle', 'Type_of_Vehicle')\n",
    "                .replace('16', 'Ridden horse', 'Type_of_Vehicle')\n",
    "                .replace('17', 'Agricultural vehicle (includes diggers etc.)', 'Type_of_Vehicle')\n",
    "                .replace('18', 'Tram / Light rail', 'Type_of_Vehicle')\n",
    "                .replace('19', 'Goods vehicle 3.5 tonnes mgw and under', 'Type_of_Vehicle')\n",
    "                .replace('20', 'Goods vehicle over 3.5 tonnes and under 7.5 tonnes', 'Type_of_Vehicle')      \n",
    "                .replace('21', 'Goods vehicle 7.5 tonnes mgw and over', 'Type_of_Vehicle')\n",
    "                .replace('22', 'Mobility Scooter', 'Type_of_Vehicle')\n",
    "                .replace('90', 'Other Vehicle', 'Type_of_Vehicle')\n",
    "                .replace('97', 'Motorcycle - Unknown CC', 'Type_of_Vehicle')\n",
    "                   )"
   ]
  },
  {
   "cell_type": "code",
   "execution_count": null,
   "id": "9ffb5700",
   "metadata": {},
   "outputs": [],
   "source": [
    "severity_final_1_1\\\n",
    "    .write\\\n",
    "    .mode(\"overwrite\")\\\n",
    "    .format(\"delta\")\\\n",
    "    .option (\"overwriteSchema\", \"true\")\\\n",
    "    .save(\"hdfs://hdfs-nn:9000/project/uc3/bronze/warehouse/bronze.db/severity_deltalake/\")"
   ]
  },
  {
   "cell_type": "code",
   "execution_count": null,
   "id": "72192cd5",
   "metadata": {},
   "outputs": [],
   "source": [
    "#check if everything is ok \n",
    "severity_final_1_1.toPandas()"
   ]
  },
  {
   "cell_type": "code",
   "execution_count": null,
   "id": "5beafd0b",
   "metadata": {},
   "outputs": [],
   "source": [
    "#now lets load this into a Silver Table"
   ]
  },
  {
   "cell_type": "code",
   "execution_count": null,
   "id": "84613d71",
   "metadata": {},
   "outputs": [],
   "source": [
    "severity_silver_df = spark.read.format(\"delta\").load(\"hdfs://hdfs-nn:9000/project/uc3/bronze/warehouse/bronze.db/severity_deltalake/\")"
   ]
  },
  {
   "cell_type": "code",
   "execution_count": null,
   "id": "e88b149f",
   "metadata": {},
   "outputs": [],
   "source": [
    "#criar uma view,chamada severity_silver_view, dos dados que foram guardados no bronze \n",
    "severity_silver_df.createOrReplaceTempView('silver_view')\n",
    "\n",
    "#criar um parquet em caso de necessidade\n",
    "severity_silver_df.repartition(2).write.mode('overwrite').save('hdfs://hdfs-nn:9000/project/uc3/bronze/warehouse/severity_final.parquet')"
   ]
  },
  {
   "cell_type": "code",
   "execution_count": null,
   "id": "3cf931e1",
   "metadata": {},
   "outputs": [],
   "source": [
    "spark.sql(\n",
    "    \"\"\"\n",
    "    DROP TABLE IF EXISTS silver.severity_silver_deltalake\n",
    "    \"\"\"\n",
    ")"
   ]
  },
  {
   "cell_type": "code",
   "execution_count": null,
   "id": "d03594aa",
   "metadata": {},
   "outputs": [],
   "source": [
    "spark.sql(\n",
    "    \"\"\"\n",
    "    DROP DATABASE IF EXISTS silver CASCADE\n",
    "    \"\"\"\n",
    ")"
   ]
  },
  {
   "cell_type": "code",
   "execution_count": null,
   "id": "5f9ca8ac",
   "metadata": {},
   "outputs": [],
   "source": [
    "#create the database for silver \n",
    "spark.sql(\n",
    "    \"\"\"\n",
    "    CREATE DATABASE IF NOT EXISTS silver LOCATION 'hdfs://hdfs-nn:9000/project/uc3/silver/warehouse/silver.db/'\n",
    "    \"\"\"\n",
    ")"
   ]
  },
  {
   "cell_type": "code",
   "execution_count": null,
   "id": "fbc011d0",
   "metadata": {},
   "outputs": [],
   "source": [
    "spark.sql(\n",
    "    \"\"\"\n",
    "    SHOW DATABASES\n",
    "    \"\"\"\n",
    ").show()"
   ]
  },
  {
   "cell_type": "code",
   "execution_count": null,
   "id": "9d89e8b0",
   "metadata": {},
   "outputs": [],
   "source": [
    "spark.sql(\n",
    "    \"\"\"\n",
    "    SHOW TABLES FROM silver\n",
    "    \"\"\"\n",
    ").show()"
   ]
  },
  {
   "cell_type": "code",
   "execution_count": null,
   "id": "a25cebbc",
   "metadata": {},
   "outputs": [],
   "source": [
    "#create sctructure for silver table\n",
    "spark.sql(\n",
    "    \"\"\"\n",
    "    CREATE EXTERNAL TABLE silver.severity_silver_deltalake (\n",
    "    \n",
    "          Id STRING,\n",
    "          Number_of_Vehicles INTEGER,\n",
    "          Accident_Date STRING,\n",
    "          Time STRING,\n",
    "          Road_Surface STRING,\n",
    "          Lighting_Conditions STRING,\n",
    "          Weather_Conditions STRING,\n",
    "          Victim_class STRING,\n",
    "          Sex_of_victim STRING,\n",
    "          Age_of_victim INTEGER,\n",
    "          Type_of_Vehicle STRING\n",
    "\n",
    "    )\n",
    "    USING DELTA\n",
    "    PARTITIONED BY (\n",
    "         Victim_severity STRING\n",
    "    )\n",
    "    \n",
    "    LOCATION 'hdfs://hdfs-nn:9000/project/uc3/silver/warehouse/silver.db/severity_silver_deltalake/'\n",
    "    \"\"\"\n",
    ")"
   ]
  },
  {
   "cell_type": "code",
   "execution_count": null,
   "id": "2329febb",
   "metadata": {},
   "outputs": [],
   "source": [
    "spark.sql(\"\"\"\n",
    "     SELECT * FROM silver_view\n",
    "    \"\"\").toPandas()"
   ]
  },
  {
   "cell_type": "code",
   "execution_count": null,
   "id": "99b928f8",
   "metadata": {},
   "outputs": [],
   "source": [
    "spark.sql(\"\"\"\n",
    "     DESCRIBE FORMATTED silver_view\n",
    "    \"\"\").toPandas()"
   ]
  },
  {
   "cell_type": "code",
   "execution_count": null,
   "id": "b9d671a2",
   "metadata": {},
   "outputs": [],
   "source": [
    "#insert data saved in the view into the table just created\n",
    "spark.sql(\n",
    "    \"\"\"\n",
    "    INSERT INTO silver.severity_silver_deltalake\n",
    "    SELECT  Id ,\n",
    "          Number_of_Vehicles,\n",
    "          Accident_Date,\n",
    "          Time,\n",
    "          Road_Surface,\n",
    "          Lighting_Conditions,\n",
    "          Weather_Conditions,\n",
    "          Victim_class,\n",
    "          Sex_of_victim,\n",
    "          Age_of_victim ,\n",
    "          Type_of_Vehicle,\n",
    "          Victim_severity\n",
    "          \n",
    "          FROM silver_view\n",
    "    \"\"\"\n",
    ")"
   ]
  },
  {
   "cell_type": "code",
   "execution_count": null,
   "id": "8e9002a1",
   "metadata": {},
   "outputs": [],
   "source": [
    "spark.sql(\n",
    "    \"\"\"\n",
    "    SELECT *\n",
    "    FROM silver.severity_silver_deltalake\n",
    "    \"\"\"\n",
    ").toPandas() "
   ]
  },
  {
   "cell_type": "code",
   "execution_count": null,
   "id": "8b46d12e",
   "metadata": {},
   "outputs": [],
   "source": [
    "#test if everything is ok\n",
    "teste = spark.read.format(\"delta\").load(\"hdfs://hdfs-nn:9000/project/uc3/silver/warehouse/silver.db/severity_silver_deltalake\")"
   ]
  },
  {
   "cell_type": "code",
   "execution_count": null,
   "id": "650abcb7",
   "metadata": {},
   "outputs": [],
   "source": [
    "teste.toPandas()"
   ]
  },
  {
   "cell_type": "code",
   "execution_count": null,
   "id": "7695be3e",
   "metadata": {},
   "outputs": [],
   "source": [
    "# create sales_per_country table in gold\n",
    "spark.sql(\n",
    "    \"\"\"\n",
    "    DROP TABLE IF EXISTS gold.gold_deltalake\n",
    "    \"\"\"\n",
    ")"
   ]
  },
  {
   "cell_type": "code",
   "execution_count": null,
   "id": "78fabd09",
   "metadata": {},
   "outputs": [],
   "source": [
    "spark.sql(\n",
    "    \"\"\"\n",
    "    DROP DATABASE IF EXISTS gold CASCADE\n",
    "    \"\"\"\n",
    ")"
   ]
  },
  {
   "cell_type": "code",
   "execution_count": null,
   "id": "1d69d235",
   "metadata": {},
   "outputs": [],
   "source": [
    "# create gold database\n",
    "spark.sql(\n",
    "    \"\"\"\n",
    "    CREATE DATABASE IF NOT EXISTS gold LOCATION 'hdfs://hdfs-nn:9000/project/uc3/gold/warehouse'\n",
    "    \"\"\"\n",
    ")"
   ]
  },
  {
   "cell_type": "code",
   "execution_count": null,
   "id": "8423dd9a",
   "metadata": {},
   "outputs": [],
   "source": [
    "spark.sql(\n",
    "    \"\"\"\n",
    "    CREATE EXTERNAL TABLE gold.gold_deltalake(\n",
    "        \n",
    "        Weather_conditions STRING,\n",
    "        Lighting_conditions STRING,\n",
    "        Road_surface STRING,\n",
    "        Victim_severity STRING,\n",
    "        Accident_Date STRING,\n",
    "        Type_of_vehicle STRING,\n",
    "        Number_of_Victims INTEGER\n",
    "\n",
    ")\n",
    "    USING DELTA\n",
    "    LOCATION 'hdfs://hdfs-nn:9000/project/uc3/gold/warehouse/gold.db/gold_deltalake/'\n",
    "    \"\"\"\n",
    ")"
   ]
  },
  {
   "cell_type": "code",
   "execution_count": null,
   "id": "e1854805",
   "metadata": {},
   "outputs": [],
   "source": [
    "from pyspark.sql.functions import substring, avg, sum\n",
    "\n",
    "# read data from the silver tables\n",
    "severity_df = spark.table(\"silver.severity_silver_deltalake\")\n",
    "\n",
    "severity_df = (severity_df\n",
    "                .drop('Time','number_of_vehicles','Sex_of_victim','Age_of_victim'))\n",
    "\n",
    "\n",
    "\n",
    "\n",
    "severity_df.printSchema()\n",
    "severity_df.toPandas()"
   ]
  },
  {
   "cell_type": "code",
   "execution_count": null,
   "id": "5a4450de",
   "metadata": {},
   "outputs": [],
   "source": [
    "# Aggregate\n",
    "gold_deltalake = severity_df \\\n",
    "    .groupBy(\"Weather_conditions\",\"Lighting_conditions\",\"Road_surface\",\"Victim_severity\",\"Accident_Date\",\"Type_of_vehicle\")\\\n",
    "    .agg(\n",
    "        count(\"Id\").cast('INTEGER').alias(\"Number_of_Victims\")\n",
    "        )\\\n",
    "    .orderBy(\"Accident_Date\")\n",
    "\n"
   ]
  },
  {
   "cell_type": "code",
   "execution_count": null,
   "id": "48920e30",
   "metadata": {},
   "outputs": [],
   "source": [
    "gold_deltalake.toPandas()"
   ]
  },
  {
   "cell_type": "code",
   "execution_count": null,
   "id": "13b987f8",
   "metadata": {},
   "outputs": [],
   "source": [
    "# write to delta table\n",
    "gold_deltalake \\\n",
    "    .write \\\n",
    "    .format(\"delta\") \\\n",
    "    .mode(\"overwrite\") \\\n",
    "    .option(\"mergeSchema\", \"true\")\\\n",
    "    .save(\"hdfs://hdfs-nn:9000/project/uc3/gold/warehouse/gold.db/gold_deltalake\")\n"
   ]
  },
  {
   "cell_type": "code",
   "execution_count": null,
   "id": "754850e9",
   "metadata": {},
   "outputs": [],
   "source": [
    "spark.stop()"
   ]
  },
  {
   "cell_type": "code",
   "execution_count": null,
   "id": "9919b9a3",
   "metadata": {},
   "outputs": [],
   "source": []
  }
 ],
 "metadata": {
  "kernelspec": {
   "display_name": "Python 3",
   "language": "python",
   "name": "python3"
  },
  "language_info": {
   "codemirror_mode": {
    "name": "ipython",
    "version": 3
   },
   "file_extension": ".py",
   "mimetype": "text/x-python",
   "name": "python",
   "nbconvert_exporter": "python",
   "pygments_lexer": "ipython3",
   "version": "3.9.4"
  }
 },
 "nbformat": 4,
 "nbformat_minor": 5
}
